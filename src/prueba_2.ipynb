{
 "cells": [
  {
   "cell_type": "code",
   "execution_count": 13,
   "metadata": {},
   "outputs": [
    {
     "name": "stdout",
     "output_type": "stream",
     "text": [
      "[1 0 1 0 1 0]\n",
      "[1 0 1 0 0 1]\n",
      "6\n",
      "<class 'numpy.int32'>\n",
      "<class 'numpy.int32'>\n",
      "<class 'numpy.int32'>\n",
      "<class 'numpy.int32'>\n",
      "<class 'numpy.int32'>\n",
      "<class 'numpy.int32'>\n",
      "[2, 1, 1, 2]\n"
     ]
    }
   ],
   "source": [
    "\"\"\"\n",
    "Calculate various evaluation metrics for a classification model.\n",
    "\n",
    "Args:\n",
    "    y_true (array-like): True labels of the data.\n",
    "    positive_label: The label considered as the positive class.\n",
    "    y_pred (array-like): Predicted labels by the model.\n",
    "\n",
    "Returns:\n",
    "    dict: A dictionary containing various evaluation metrics.\n",
    "\n",
    "Metrics Calculated:\n",
    "    - Confusion Matrix: [TN, FP, FN, TP]\n",
    "    - Accuracy: (TP + TN) / (TP + TN + FP + FN)\n",
    "    - Precision: TP / (TP + FP)\n",
    "    - Recall (Sensitivity): TP / (TP + FN)\n",
    "    - Specificity: TN / (TN + FP)\n",
    "    - F1 Score: 2 * (Precision * Recall) / (Precision + Recall)\n",
    "\"\"\"\n",
    "# Map string labels to 0 or 1\n",
    "import numpy as np\n",
    "y_true = np.array([1, 0, 1, 0, 1, 0])\n",
    "y_pred = np.array([1, 0, 1, 0, 0, 1])\n",
    "positive_label = 1\n",
    "y_true_mapped = np.array([1 if label == positive_label else 0 for label in y_true])\n",
    "y_pred_mapped = np.array([1 if label == positive_label else 0 for label in y_pred])\n",
    "TP = 0\n",
    "FP = 0\n",
    "TN = 0\n",
    "FN = 0\n",
    "print(y_true_mapped)\n",
    "print(y_pred_mapped)\n",
    "print(len(y_true_mapped))\n",
    "for i in range(len(y_true_mapped)):\n",
    "    valor_verd = y_true_mapped[i]\n",
    "    print((valor_verd))\n",
    "    valor_pred = y_pred_mapped[i]\n",
    "    if valor_pred == 1:\n",
    "        if valor_verd == 1:\n",
    "            TP += 1\n",
    "        else:\n",
    "            FP += 1\n",
    "    else:\n",
    "        if valor_verd == 0:\n",
    "            TN += 1\n",
    "        else:\n",
    "            FN += 1\n",
    "print([TN, FP, FN, TP])\n",
    "\n",
    "accuracy = (TP + TN) / (TP + TN + FP + FN)\n",
    "\n",
    "# Precision\n",
    "if (TP + FP) != 0:\n",
    "    precision = TP / (TP + FP)\n",
    "else:\n",
    "    raise ZeroDivisionError()\n",
    "\n",
    "# Recall (Sensitivity)\n",
    "recall = TP / (TP + FN)\n",
    "\n",
    "# Specificity\n",
    "specificity = TN / (TN + FP)\n",
    "\n",
    "# F1 Score\n",
    "f1 = 2 * (precision * recall) / (precision + recall)\n",
    "\n",
    "\n",
    "\n"
   ]
  },
  {
   "cell_type": "code",
   "execution_count": 2,
   "metadata": {},
   "outputs": [
    {
     "name": "stdout",
     "output_type": "stream",
     "text": [
      "[0.  0.1 0.2 0.3 0.4 0.5 0.6 0.7 0.8 0.9 1. ]\n"
     ]
    }
   ],
   "source": [
    "import numpy as np\n",
    "print(np.linspace(0, 1, 11))"
   ]
  },
  {
   "cell_type": "code",
   "execution_count": null,
   "metadata": {},
   "outputs": [],
   "source": []
  },
  {
   "cell_type": "code",
   "execution_count": 6,
   "metadata": {},
   "outputs": [
    {
     "name": "stdout",
     "output_type": "stream",
     "text": [
      "[1.0, 1.0, 1.0, 1.0, 1.0, 0.8, 0.6, 0.4, 0.4, 0.2, 0.0] [1.0, 1.0, 0.6, 0.0, 0.0, 0.0, 0.0, 0.0, 0.0, 0.0, 0.0]\n"
     ]
    }
   ],
   "source": [
    "y_true = np.array([1, 0, 1, 0, 1, 0, 1, 1, 0, 0])\n",
    "y_probs = np.array([0.9, 0.1, 0.8, 0.2, 0.7, 0.3, 0.6, 0.4, 0.2, 0.1])\n",
    "positive_label = 1\n",
    "\n",
    "idx_prob_ordenados = np.argsort(y_probs)\n",
    "y_true = y_true[idx_prob_ordenados]\n",
    "y_probs = y_probs[idx_prob_ordenados]\n",
    "verdaderos_positivos= sum(np.array(y_true) == positive_label)\n",
    "verdaderos_negativos = sum(np.array(y_true) != positive_label)\n",
    "tpr = []\n",
    "fpr = []\n",
    "umbrales = np.linspace(0, 1, len(y_true)+1)\n",
    "for umbral_prob in umbrales:\n",
    "    umbral_idx = 0\n",
    "    i = 0\n",
    "    umbral_encontrado = False\n",
    "    while i < len(y_probs) and umbral_encontrado == False:\n",
    "        if y_probs[i] >= umbral_prob:\n",
    "            umbral_idx = i\n",
    "            umbral_encontrado = True\n",
    "        else:\n",
    "            i += 1\n",
    "    if i == len(y_probs):\n",
    "        if umbral_prob == 0:\n",
    "            umbral_idx = 0\n",
    "        else:\n",
    "            umbral_idx = len(y_true)\n",
    "\n",
    "\n",
    "    array_pos_predichos = y_true[umbral_idx:len(y_true)]\n",
    "    TP = sum(np.array(array_pos_predichos) == positive_label)\n",
    "\n",
    "    FP = sum(np.array(array_pos_predichos) != positive_label)\n",
    "\n",
    "    tpr.append(TP/verdaderos_positivos)\n",
    "    fpr.append(FP/verdaderos_negativos)\n",
    "print(tpr,fpr)"
   ]
  },
  {
   "cell_type": "code",
   "execution_count": 10,
   "metadata": {},
   "outputs": [
    {
     "name": "stdout",
     "output_type": "stream",
     "text": [
      "1.0 1.0 0.0\n",
      "1.0 1.0 0.1\n",
      "1.0 0.6 0.2\n",
      "1.0 0.0 0.30000000000000004\n",
      "1.0 0.0 0.4\n",
      "0.8 0.0 0.5\n",
      "0.6 0.0 0.6000000000000001\n",
      "0.4 0.0 0.7000000000000001\n",
      "0.4 0.0 0.8\n",
      "0.2 0.0 0.9\n",
      "0.0 0.0 1.0\n"
     ]
    }
   ],
   "source": [
    "y_true = np.array([1, 0, 1, 0, 1, 0, 1, 1, 0, 0])\n",
    "y_probs = np.array([0.9, 0.1, 0.8, 0.2, 0.7, 0.3, 0.6, 0.4, 0.2, 0.1])\n",
    "positive_label = 1\n",
    "\n",
    "# Call the function and capture returned data\n",
    "\n",
    "# Verify returned structure\n",
    "\n",
    "\n",
    "# Validate FPR and TPR values at key thresholds\n",
    "thresholds = np.linspace(0, 1, 11)\n",
    "for idx, thresh in enumerate(thresholds):\n",
    "    y_pred = (y_probs >= thresh).astype(int)\n",
    "    tp = np.sum((y_true == 1) & (y_pred == 1))\n",
    "    fp = np.sum((y_true == 0) & (y_pred == 1))\n",
    "    fn = np.sum((y_true == 1) & (y_pred == 0))\n",
    "    tn = np.sum((y_true == 0) & (y_pred == 0))\n",
    "\n",
    "    expected_tpr = tp / (tp + fn) if tp + fn != 0 else 0\n",
    "    expected_fpr = fp / (fp + tn) if fp + tn != 0 else 0\n",
    "    print(expected_tpr,expected_fpr,thresh)"
   ]
  },
  {
   "cell_type": "code",
   "execution_count": 14,
   "metadata": {},
   "outputs": [
    {
     "name": "stdout",
     "output_type": "stream",
     "text": [
      "[1.0, 1.0, 1.0, 1.0, 1.0, 1.0, 1.0, 1.0, 1.0, 1.0, 1.0] [1.0, 0.0, 0.0, 0.0, 0.0, 0.0, 0.0, 0.0, 0.0, 0.0, 0.0]\n"
     ]
    }
   ],
   "source": [
    "y_true = np.array([1, 0, 1, 0])\n",
    "y_probs = np.array([1, 0, 1, 0])\n",
    "idx_prob_ordenados = np.argsort(y_probs)\n",
    "y_true = y_true[idx_prob_ordenados]\n",
    "y_probs = y_probs[idx_prob_ordenados]\n",
    "verdaderos_positivos= sum(np.array(y_true) == positive_label)\n",
    "verdaderos_negativos = sum(np.array(y_true) != positive_label)\n",
    "tpr = []\n",
    "fpr = []\n",
    "umbrales = np.linspace(0, 1, 11)\n",
    "for umbral_prob in umbrales:\n",
    "    TP = 0\n",
    "    FP = 0\n",
    "    for i in range(len(y_true)):\n",
    "        if y_probs[i] >= umbral_prob:\n",
    "            if y_true[i] == 1:\n",
    "                TP += 1\n",
    "            else:\n",
    "                FP += 1\n",
    "\n",
    "    tpr.append(TP/verdaderos_positivos)\n",
    "    fpr.append(FP/verdaderos_negativos)\n",
    "\n",
    "print(tpr,fpr)\n"
   ]
  }
 ],
 "metadata": {
  "kernelspec": {
   "display_name": "CursoMachineLearning",
   "language": "python",
   "name": "python3"
  },
  "language_info": {
   "codemirror_mode": {
    "name": "ipython",
    "version": 3
   },
   "file_extension": ".py",
   "mimetype": "text/x-python",
   "name": "python",
   "nbconvert_exporter": "python",
   "pygments_lexer": "ipython3",
   "version": "3.11.5"
  }
 },
 "nbformat": 4,
 "nbformat_minor": 2
}
